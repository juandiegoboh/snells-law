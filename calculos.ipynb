{
 "cells": [
  {
   "cell_type": "code",
   "execution_count": 1,
   "metadata": {},
   "outputs": [
    {
     "ename": "ModuleNotFoundError",
     "evalue": "No module named 'CalculoCoeficientes'",
     "output_type": "error",
     "traceback": [
      "\u001b[1;31m---------------------------------------------------------------------------\u001b[0m",
      "\u001b[1;31mModuleNotFoundError\u001b[0m                       Traceback (most recent call last)",
      "Cell \u001b[1;32mIn[1], line 1\u001b[0m\n\u001b[1;32m----> 1\u001b[0m \u001b[39mfrom\u001b[39;00m \u001b[39mCalculoCoeficientes\u001b[39;00m \u001b[39mimport\u001b[39;00m CalculoCoeficientes\n\u001b[0;32m      3\u001b[0m incidente \u001b[39m=\u001b[39m \u001b[39m90\u001b[39m  \u001b[39m# Puede ser cualquier angulo\u001b[39;00m\n\u001b[0;32m      5\u001b[0m \u001b[39m# Velocidades Manto - Nucleo\u001b[39;00m\n",
      "\u001b[1;31mModuleNotFoundError\u001b[0m: No module named 'CalculoCoeficientes'"
     ]
    }
   ],
   "source": [
    "from CalculoCoeficientes import CalculoCoeficientes\n",
    "\n",
    "incidente = 90  # Puede ser cualquier angulo\n",
    "\n",
    "# Velocidades Manto - Nucleo\n",
    "alpha1 = 13700\n",
    "beta1 = 7200\n",
    "alpha2 = 8000\n",
    "beta2 = 0\n",
    "# Densidades\n",
    "rho1 = 5.5\n",
    "rho2 = 9.9\n",
    "onda_incidente = 'p' # Seleccionar onda p o s\n",
    "\n",
    "# Calculo de coeficientes\n",
    "ejercicio = CalculoCoeficientes(incidente, alpha1, beta1, alpha2, beta2, onda_incidente, rho1, rho2)\n",
    "print(ejercicio)\n",
    "# ejercicio.plot_snell() # Si se quiere ver la representacion\n",
    "\n",
    "rad_inc = ejercicio.rad_inc\n",
    "# rad_s_ref, ang_s_ref, rad_p_ref, ang_p_ref = ejercicio.reflexion(rad_inc)\n",
    "# rad_p_trans, ang_p_trans, rad_s_trans, ang_s_trans = ejercicio.transmision(rad_inc)"
   ]
  }
 ],
 "metadata": {
  "kernelspec": {
   "display_name": "pinn-gpu",
   "language": "python",
   "name": "python3"
  },
  "language_info": {
   "codemirror_mode": {
    "name": "ipython",
    "version": 3
   },
   "file_extension": ".py",
   "mimetype": "text/x-python",
   "name": "python",
   "nbconvert_exporter": "python",
   "pygments_lexer": "ipython3",
   "version": "3.8.16"
  },
  "orig_nbformat": 4
 },
 "nbformat": 4,
 "nbformat_minor": 2
}
